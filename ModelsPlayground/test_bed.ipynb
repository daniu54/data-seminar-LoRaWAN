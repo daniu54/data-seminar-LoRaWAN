{
 "cells": [
  {
   "cell_type": "code",
   "execution_count": 2,
   "metadata": {},
   "outputs": [],
   "source": [
    "import numpy as np\n",
    "import os\n",
    "import uuid\n",
    "\n",
    "import joblib # for persisting models\n",
    "\n",
    "# models\n",
    "from scipy.optimize import curve_fit # multip. linear regression\n",
    "from sklearn.svm import SVR # support vector forrest\n",
    "from sklearn.ensemble import RandomForestRegressor\n",
    "from sklearn.neural_network import MLPRegressor\n",
    "\n",
    "from sklearn.model_selection import train_test_split\n",
    "from sklearn.metrics import mean_squared_error, r2_score\n",
    "\n",
    "import pandas as pd\n",
    "import time\n",
    "from datetime import datetime"
   ]
  },
  {
   "cell_type": "code",
   "execution_count": 3,
   "metadata": {},
   "outputs": [
    {
     "name": "stdout",
     "output_type": "stream",
     "text": [
      "Dropped  780  rows with NaN values\n"
     ]
    }
   ],
   "source": [
    "df = pd.read_csv('../aggregated_measurements_data.csv', index_col=0)\n",
    "\n",
    "df_cleaned = df.dropna()\n",
    "print(\"Dropped \", len(df) - len(df_cleaned), \" rows with NaN values\")"
   ]
  },
  {
   "cell_type": "code",
   "execution_count": 7,
   "metadata": {},
   "outputs": [
    {
     "name": "stdout",
     "output_type": "stream",
     "text": [
      "Test 1 of 1 with sample_size 50000, test_size 0.45 and features ['distance', 'c_walls', 'w_walls', 'co2', 'humidity', 'pm25', 'pressure', 'temperature', 'snr']\n",
      "Creating Model\n",
      "Fitting Model\n",
      "Predicting\n",
      "Test took 00:02:05\n",
      "Best model id:  613ab369  with r2:  0.45562360832518234\n"
     ]
    },
    {
     "data": {
      "text/plain": [
       "['./best_models/svr_model_613ab369.joblib']"
      ]
     },
     "execution_count": 7,
     "metadata": {},
     "output_type": "execute_result"
    }
   ],
   "source": [
    "import importlib\n",
    "import svr_test_bed\n",
    "\n",
    "importlib.reload(svr_test_bed) # reload exported functions\n",
    "\n",
    "test_sizes = []\n",
    "sample_sizes = []\n",
    "features = []\n",
    "model_arguments = []\n",
    "\n",
    "test_sizes.append(0.45)\n",
    "sample_sizes.append(50000)\n",
    "features.append(['distance', 'c_walls', 'w_walls', 'co2', 'humidity', 'pm25', 'pressure', 'temperature', 'snr'])\n",
    "model_arguments.append({'kernel': 'rbf'})\n",
    "\n",
    "\n",
    "\n",
    "test_sizes.append(0.80)\n",
    "sample_sizes.append(150000)\n",
    "features.append(['distance', 'c_walls', 'co2', 'humidity', 'pm25', 'pressure', 'temperature', 'snr'])\n",
    "model_arguments.append({'kernel': 'rbf'})\n",
    "\n",
    "test_specification = pd.DataFrame({\n",
    "    \"test_size\": test_sizes,\n",
    "    \"sample_size\": sample_sizes,\n",
    "    \"features\": features,\n",
    "    \"model_arguments\": model_arguments,\n",
    "})\n",
    "\n",
    "# assign ids to tests\n",
    "test_specification['id'] = [str(uuid.uuid4()).replace('-', '')[:8] for _ in range(len(test_specification))]\n",
    "\n",
    "test_specification['output_file'] = './results/results.csv'\n",
    "\n",
    "(test_results_svr, best_svr_model, best_svr_model_id) = svr_test_bed.svr_test_bed(\n",
    "    data=df_cleaned,\n",
    "    test_specification=test_specification,\n",
    ")\n",
    "\n",
    "# save best model\n",
    "#create directory if it does not exist\n",
    "os.makedirs(\"./best_models\", exist_ok=True)\n",
    "joblib.dump(best_svr_model, f\"./best_models/svr_model_{best_svr_model_id}.joblib\")"
   ]
  },
  {
   "cell_type": "code",
   "execution_count": 11,
   "metadata": {},
   "outputs": [
    {
     "name": "stdout",
     "output_type": "stream",
     "text": [
      "Mean Squared Error: 15.798026205573127\n",
      "R-squared: 0.9717673509900925\n",
      "Training Data Set\n",
      "Mean Squared Error: 8.291873963515754e-05\n",
      "R-squared: 0.9999998517598937\n",
      "Feature Importances:\n",
      " distance       0.099850\n",
      "c_walls        0.021315\n",
      "w_walls        0.325613\n",
      "co2            0.005956\n",
      "humidity       0.009128\n",
      "pm25           0.005125\n",
      "pressure       0.012777\n",
      "temperature    0.007746\n",
      "snr            0.512489\n",
      "dtype: float64\n"
     ]
    }
   ],
   "source": [
    "# Import necessary libraries\n",
    "import pandas as pd\n",
    "from sklearn.model_selection import train_test_split\n",
    "from sklearn.tree import DecisionTreeRegressor\n",
    "from sklearn.metrics import mean_squared_error, r2_score\n",
    "\n",
    "# Example DataFrame (Replace this with your actual data)\n",
    "# Define features (X) and target (y)\n",
    "X = df_cleaned[['distance', 'c_walls', 'w_walls', 'co2', 'humidity', 'pm25', 'pressure', 'temperature', 'snr']]\n",
    "y = df_cleaned['exp_pl']\n",
    "\n",
    "# Split data into training and testing sets\n",
    "X_train, X_test, y_train, y_test = train_test_split(X, y, test_size=0.4, random_state=42)\n",
    "\n",
    "# Initialize the Decision Tree Regressor\n",
    "regressor = DecisionTreeRegressor(random_state=42)\n",
    "\n",
    "# Fit the model\n",
    "regressor.fit(X_train, y_train)\n",
    "\n",
    "# Make predictions\n",
    "y_pred = regressor.predict(X_test)\n",
    "y_pred2 = regressor.predict(X_train)\n",
    "\n",
    "# Evaluate the model\n",
    "mse = mean_squared_error(y_test, y_pred)\n",
    "r2 = r2_score(y_test, y_pred)\n",
    "\n",
    "print(\"Mean Squared Error:\", mse)\n",
    "print(\"R-squared:\", r2)\n",
    "\n",
    "print(\"Training Data Set\")\n",
    "print(\"Mean Squared Error:\", mean_squared_error(y_train, y_pred2)) # overfitting here\n",
    "print(\"R-squared:\", r2_score(y_train, y_pred2))\n",
    "\n",
    "# Optional: Display feature importances\n",
    "feature_importances = pd.Series(regressor.feature_importances_, index=X.columns)\n",
    "print(\"Feature Importances:\\n\", feature_importances)"
   ]
  },
  {
   "cell_type": "code",
   "execution_count": 5,
   "metadata": {},
   "outputs": [
    {
     "name": "stdout",
     "output_type": "stream",
     "text": [
      "exp_pl         1.000000\n",
      "distance       0.586789\n",
      "w_walls        0.454843\n",
      "toa            0.356896\n",
      "SF             0.290373\n",
      "c_walls        0.281712\n",
      "f_count        0.043549\n",
      "humidity       0.026794\n",
      "pressure       0.003594\n",
      "frequency      0.002861\n",
      "p_count       -0.000204\n",
      "pm25          -0.017484\n",
      "co2           -0.074096\n",
      "temperature   -0.084946\n",
      "snr           -0.670766\n",
      "n_power       -0.992823\n",
      "esp           -0.993180\n",
      "rssi          -1.000000\n",
      "Name: exp_pl, dtype: float64\n"
     ]
    }
   ],
   "source": [
    "print(df_cleaned.corr()['exp_pl'].sort_values(ascending=False))"
   ]
  }
 ],
 "metadata": {
  "kernelspec": {
   "display_name": "Python 3",
   "language": "python",
   "name": "python3"
  },
  "language_info": {
   "codemirror_mode": {
    "name": "ipython",
    "version": 3
   },
   "file_extension": ".py",
   "mimetype": "text/x-python",
   "name": "python",
   "nbconvert_exporter": "python",
   "pygments_lexer": "ipython3",
   "version": "3.10.0"
  }
 },
 "nbformat": 4,
 "nbformat_minor": 2
}
