{
 "cells": [
  {
   "cell_type": "code",
   "execution_count": 5,
   "metadata": {},
   "outputs": [],
   "source": [
    "import numpy as np\n",
    "import os\n",
    "import uuid\n",
    "\n",
    "import joblib # for persisting models\n",
    "\n",
    "# models\n",
    "from scipy.optimize import curve_fit # multip. linear regression\n",
    "from sklearn.svm import SVR # support vector forrest\n",
    "from sklearn.ensemble import RandomForestRegressor\n",
    "from sklearn.neural_network import MLPRegressor\n",
    "\n",
    "from sklearn.model_selection import train_test_split\n",
    "from sklearn.metrics import mean_squared_error, r2_score\n",
    "\n",
    "import pandas as pd\n",
    "import time\n",
    "from datetime import datetime"
   ]
  },
  {
   "cell_type": "code",
   "execution_count": 6,
   "metadata": {},
   "outputs": [
    {
     "name": "stdout",
     "output_type": "stream",
     "text": [
      "Dropped  780  rows with NaN values\n"
     ]
    }
   ],
   "source": [
    "df = pd.read_csv('../aggregated_measurements_data.csv', index_col=0)\n",
    "\n",
    "df_cleaned = df.dropna()\n",
    "print(\"Dropped \", len(df) - len(df_cleaned), \" rows with NaN values\")"
   ]
  },
  {
   "cell_type": "code",
   "execution_count": 7,
   "metadata": {},
   "outputs": [
    {
     "name": "stdout",
     "output_type": "stream",
     "text": [
      "Test 1 of 2 with sample_size 20000, test_size 0.45 and features ['distance', 'n_power', 'c_walls', 'w_walls']\n",
      "Creating Model\n",
      "Fitting Model\n",
      "Predicting\n",
      "Test 2 of 2 with sample_size 50000, test_size 0.45 and features ['distance', 'n_power', 'c_walls', 'w_walls']\n",
      "Creating Model\n",
      "Fitting Model\n",
      "Predicting\n",
      "Test took 00:01:58\n",
      "Best model id:  8a3bd18c  with r2:  0.9940944799115289\n"
     ]
    },
    {
     "data": {
      "text/plain": [
       "['svr_model_8a3bd18c.joblib']"
      ]
     },
     "execution_count": 7,
     "metadata": {},
     "output_type": "execute_result"
    }
   ],
   "source": [
    "import importlib\n",
    "import svr_test_bed\n",
    "\n",
    "importlib.reload(svr_test_bed) # reload exported functions\n",
    "\n",
    "test_sizes = []\n",
    "sample_sizes = []\n",
    "features = []\n",
    "model_arguments = []\n",
    "\n",
    "test_sizes.append(0.45)\n",
    "sample_sizes.append(20000)\n",
    "features.append(['distance', 'n_power','c_walls', 'w_walls'])\n",
    "model_arguments.append({'kernel': 'rbf'})\n",
    "\n",
    "test_sizes.append(0.45)\n",
    "sample_sizes.append(50000)\n",
    "features.append(['distance', 'n_power','c_walls', 'w_walls'])\n",
    "model_arguments.append({'kernel': 'rbf'})\n",
    "\n",
    "test_specification = pd.DataFrame({\n",
    "    \"test_size\": test_sizes,\n",
    "    \"sample_size\": sample_sizes,\n",
    "    \"features\": features,\n",
    "    \"model_arguments\": model_arguments,\n",
    "})\n",
    "\n",
    "# assign ids to tests\n",
    "test_specification['id'] = [str(uuid.uuid4()).replace('-', '')[:8] for _ in range(len(test_specification))]\n",
    "\n",
    "test_specification['output_file'] = 'results.csv'\n",
    "\n",
    "(test_results_svr, best_svr_model, best_svr_model_id) = svr_test_bed.svr_test_bed(\n",
    "    data=df_cleaned,\n",
    "    test_specification=test_specification,\n",
    ")\n",
    "\n",
    "# save best model\n",
    "joblib.dump(best_svr_model, f\"svr_model_{best_svr_model_id}.joblib\")"
   ]
  },
  {
   "cell_type": "code",
   "execution_count": 8,
   "metadata": {},
   "outputs": [
    {
     "name": "stdout",
     "output_type": "stream",
     "text": [
      "Empty DataFrame\n",
      "Columns: []\n",
      "Index: [0.45, 20000, ['distance', 'n_power', 'c_walls', 'w_walls'], {'kernel': 'rbf'}, 4671d406, results.csv, SVR, 0.45, 50000, ['distance', 'n_power', 'c_walls', 'w_walls'], {'kernel': 'rbf'}, 8a3bd18c, results.csv, SVR]\n"
     ]
    }
   ],
   "source": [
    "results_df = pd.read_csv('results.csv', index_col=0)\n",
    "print(results_df)"
   ]
  }
 ],
 "metadata": {
  "kernelspec": {
   "display_name": "Python 3",
   "language": "python",
   "name": "python3"
  },
  "language_info": {
   "codemirror_mode": {
    "name": "ipython",
    "version": 3
   },
   "file_extension": ".py",
   "mimetype": "text/x-python",
   "name": "python",
   "nbconvert_exporter": "python",
   "pygments_lexer": "ipython3",
   "version": "3.10.0"
  }
 },
 "nbformat": 4,
 "nbformat_minor": 2
}
