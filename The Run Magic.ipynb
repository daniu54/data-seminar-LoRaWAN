{
 "cells": [
  {
   "cell_type": "markdown",
   "id": "bf73bfdd-6a16-4375-b752-d157047969d9",
   "metadata": {},
   "source": [
    "\n",
    "<p style=\"font-family: 'Courier New', Courier, monospace; font-size: 30px; font-weight: bold; color: blue;  text-align: left;\">\n",
    "Sequential Notebook Runner \n",
    "</p>"
   ]
  },
  {
   "cell_type": "code",
   "execution_count": null,
   "id": "fc32fde7-2114-48bc-a5a3-716fc99bc9b9",
   "metadata": {},
   "outputs": [],
   "source": [
    "import os\n",
    "from dotenv import load_dotenv\n",
    "\n",
    "# Load environment variables from .env file\n",
    "load_dotenv()\n",
    "\n",
    "# List of notebooks to execute in the specified order\n",
    "notebooks = [\n",
    "    \"Data_Querying.ipynb\",\n",
    "    \"Data_Sortation.ipynb\",\n",
    "    \"Exploratory_Analysis.ipynb\",\n",
    "    \"Anomalies_Removal.ipynb\",\n",
    "    \"LDPLM.ipynb\"\n",
    "]\n",
    "\n",
    "# Check if all notebooks exist\n",
    "missing_notebooks = [nb for nb in notebooks if not os.path.isfile(nb)]\n",
    "if missing_notebooks:\n",
    "    print(\"The following notebooks are missing:\")\n",
    "    for missing in missing_notebooks:\n",
    "        print(f\"- {missing}\")\n",
    "    raise FileNotFoundError(\"Some notebooks are missing. Please check the list and directory.\")\n",
    "\n",
    "# Loop through and execute each notebook with clear completion messages\n",
    "for idx, notebook in enumerate(notebooks):\n",
    "    print(f\"\\nStarting execution of {notebook}...\")\n",
    "    try:\n",
    "        %run {notebook}\n",
    "        # For all but the last notebook, provide a moving to next notebook message\n",
    "        if idx < len(notebooks) - 1:\n",
    "            print(f\"\\nSuccessfully completed execution of {notebook}. Moving on to the next notebook...\")\n",
    "        else:\n",
    "            print(f\"\\nSuccessfully completed execution of {notebook}. All notebooks have been executed.\")\n",
    "    except Exception as e:\n",
    "        print(f\"\\nAn error occurred while executing {notebook}: {e}\")\n",
    "        break\n"
   ]
  }
 ],
 "metadata": {
  "kernelspec": {
   "display_name": "Python (ml_models_env)",
   "language": "python",
   "name": "ml_models_env"
  },
  "language_info": {
   "codemirror_mode": {
    "name": "ipython",
    "version": 3
   },
   "file_extension": ".py",
   "mimetype": "text/x-python",
   "name": "python",
   "nbconvert_exporter": "python",
   "pygments_lexer": "ipython3",
   "version": "3.11.11"
  }
 },
 "nbformat": 4,
 "nbformat_minor": 5
}
