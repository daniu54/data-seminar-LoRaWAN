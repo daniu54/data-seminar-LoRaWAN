{
 "cells": [
  {
   "cell_type": "code",
   "execution_count": 15,
   "metadata": {},
   "outputs": [
    {
     "name": "stdout",
     "output_type": "stream",
     "text": [
      "Index(['id', 'model', 'mse', 'r2', 'model_parameters', 'unused_features',\n",
      "       'verbose', 'n_jobs', 'save_model', 'features', 'sample_size',\n",
      "       'test_size', 'random_state', 'skip_cross_validation', 'skip_fitting',\n",
      "       'model_type', 'model_type_full', 'time_test_start',\n",
      "       'time_test_start_pretty', 'time_fitting', 'time_pred', 'mse_train',\n",
      "       'r2_train', 'mse_diff_train_test', 'r2_diff_train_test',\n",
      "       'cross_validation_k5_mse', 'cross_validation_k5_r2',\n",
      "       'cross_validation_k5_mse_mean', 'cross_validation_k5_r2_mean',\n",
      "       'time_cross_validation_k5_mse', 'time_cross_validation_k5_r2',\n",
      "       'test_success', 'time_test_end', 'time_test_end_pretty',\n",
      "       'time_test_duration', 'skip_on_duplicate'],\n",
      "      dtype='object')\n"
     ]
    }
   ],
   "source": [
    "import pandas as pd\n",
    "# hot-reload pipeline functions from a python file\n",
    "import importlib\n",
    "import pipeline\n",
    "importlib.reload(pipeline) # reload imported functions\n",
    "\n",
    "model_stats = pd.read_json(pipeline.DEFAULT_STATS_FILE, orient=\"records\", lines=True)\n",
    "\n",
    "print(model_stats.columns)"
   ]
  },
  {
   "cell_type": "code",
   "execution_count": 16,
   "metadata": {},
   "outputs": [
    {
     "name": "stdout",
     "output_type": "stream",
     "text": [
      "id                                             gradient_boosting_regressor_2\n",
      "model                      GradientBoostingRegressor(learning_rate=0.0117...\n",
      "r2                                                                  0.987761\n",
      "r2_train                                                            0.999636\n",
      "mse                                                                 6.777525\n",
      "mse_train                                                           0.201032\n",
      "cross_validation_k5_r2     [0.9880018972000001, 0.9884364839, 0.987566992...\n",
      "cross_validation_k5_mse    [6.6395695824, 6.4063736082, 6.8526735758, 6.5...\n",
      "Name: 6, dtype: object\n",
      "used_features: ['distance', 'co2', 'humidity', 'pm25', 'pressure', 'temperature', 'frequency', 'snr', 'inverse_distance_squared', 'humidity_temperature_product']\n"
     ]
    }
   ],
   "source": [
    "model_stats.sort_values(by=\"r2\", ascending=False, inplace=True)\n",
    "model_stats.sort_values(by=\"mse\", inplace=True)\n",
    "\n",
    "best_model = model_stats.iloc[0]\n",
    "\n",
    "print(best_model[['id', 'model', 'r2', 'r2_train', 'mse', 'mse_train', 'cross_validation_k5_r2', 'cross_validation_k5_mse']])\n",
    "\n",
    "used_features = list(best_model['features'])\n",
    "print(f'used_features: {used_features}')"
   ]
  }
 ],
 "metadata": {
  "kernelspec": {
   "display_name": "Python 3",
   "language": "python",
   "name": "python3"
  },
  "language_info": {
   "codemirror_mode": {
    "name": "ipython",
    "version": 3
   },
   "file_extension": ".py",
   "mimetype": "text/x-python",
   "name": "python",
   "nbconvert_exporter": "python",
   "pygments_lexer": "ipython3",
   "version": "3.10.0"
  }
 },
 "nbformat": 4,
 "nbformat_minor": 2
}
