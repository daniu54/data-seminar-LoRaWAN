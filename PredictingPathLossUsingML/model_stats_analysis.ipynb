{
 "cells": [
  {
   "cell_type": "code",
   "execution_count": 4,
   "metadata": {},
   "outputs": [
    {
     "name": "stdout",
     "output_type": "stream",
     "text": [
      "Index(['id', 'model', 'mse', 'r2', 'model_parameters', 'unused_features',\n",
      "       'verbose', 'n_jobs', 'save_model', 'features', 'sample_size',\n",
      "       'test_size', 'random_state', 'skip_cross_validation', 'skip_fitting',\n",
      "       'model_type', 'model_type_full', 'time_test_start',\n",
      "       'time_test_start_pretty', 'time_fitting', 'time_pred', 'mse_train',\n",
      "       'r2_train', 'mse_diff_train_test', 'r2_diff_train_test',\n",
      "       'cross_validation_k5_mse', 'cross_validation_k5_r2',\n",
      "       'cross_validation_k5_mse_mean', 'cross_validation_k5_r2_mean',\n",
      "       'time_cross_validation_k5_mse', 'time_cross_validation_k5_r2',\n",
      "       'test_success', 'time_test_end', 'time_test_end_pretty',\n",
      "       'time_test_duration', 'skip_on_duplicate'],\n",
      "      dtype='object')\n",
      "                                 id        r2        mse  \\\n",
      "3  random_forrest_regressor_default  0.986907   7.241395   \n",
      "1                        xg_boost_1  0.986315   7.549430   \n",
      "0                       ada_boost_1  0.983759   9.012495   \n",
      "2     gradient_boosting_regressor_1  0.967366  18.108001   \n",
      "5      kneighbors_regressor_default  0.966457  18.448935   \n",
      "4             mlp_regressor_default  0.941477  32.242828   \n",
      "\n",
      "                                               model  \n",
      "3       RandomForestRegressor(n_jobs=-1, verbose=10)  \n",
      "1  XGBRegressor(base_score=None, booster=None, ca...  \n",
      "0  AdaBoostRegressor(estimator=DecisionTreeRegres...  \n",
      "2  GradientBoostingRegressor(learning_rate=0.05, ...  \n",
      "5                     KNeighborsRegressor(n_jobs=-1)  \n",
      "4                         MLPRegressor(verbose=True)  \n"
     ]
    }
   ],
   "source": [
    "import numpy as np\n",
    "import os\n",
    "import uuid\n",
    "\n",
    "# models\n",
    "from scipy.optimize import curve_fit # multip. linear regression\n",
    "from sklearn.svm import SVR # support vector forrest\n",
    "from sklearn.ensemble import RandomForestRegressor\n",
    "from sklearn.neural_network import MLPRegressor\n",
    "\n",
    "import pandas as pd\n",
    "\n",
    "# hot-reload pipeline functions from a python file\n",
    "import importlib\n",
    "import pipeline\n",
    "\n",
    "importlib.reload(pipeline) # reload imported functions\n",
    "\n",
    "model_stats = pd.read_json(pipeline.DEFAULT_STATS_FILE, orient=\"records\", lines=True)\n",
    "\n",
    "print(model_stats.columns)\n",
    "\n",
    "model_stats.sort_values(by=\"r2\", ascending=False, inplace=True)\n",
    "model_stats.sort_values(by=\"mse\", inplace=True)\n",
    "\n",
    "print(model_stats[[\"id\", \"r2\", \"mse\", \"model\"]])"
   ]
  },
  {
   "cell_type": "code",
   "execution_count": 5,
   "metadata": {},
   "outputs": [
    {
     "name": "stdout",
     "output_type": "stream",
     "text": [
      "                                 id        r2       mse  \\\n",
      "3  random_forrest_regressor_default  0.986907  7.241395   \n",
      "\n",
      "                                          model  \n",
      "3  RandomForestRegressor(n_jobs=-1, verbose=10)  \n"
     ]
    }
   ],
   "source": [
    "random_forrest_model = model_stats[model_stats['id'] == 'random_forrest_regressor_default']\n",
    "\n",
    "print(random_forrest_model[[\"id\", \"r2\", \"mse\", \"model\"]])"
   ]
  }
 ],
 "metadata": {
  "kernelspec": {
   "display_name": "Python 3",
   "language": "python",
   "name": "python3"
  },
  "language_info": {
   "codemirror_mode": {
    "name": "ipython",
    "version": 3
   },
   "file_extension": ".py",
   "mimetype": "text/x-python",
   "name": "python",
   "nbconvert_exporter": "python",
   "pygments_lexer": "ipython3",
   "version": "3.10.0"
  }
 },
 "nbformat": 4,
 "nbformat_minor": 2
}
