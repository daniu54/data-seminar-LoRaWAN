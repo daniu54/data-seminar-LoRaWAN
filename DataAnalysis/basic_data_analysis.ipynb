{
 "cells": [
  {
   "cell_type": "markdown",
   "metadata": {},
   "source": [
    "# Basic Data Analysis"
   ]
  },
  {
   "cell_type": "code",
   "execution_count": 42,
   "metadata": {},
   "outputs": [],
   "source": [
    "# === Libraries ===\n",
    "import numpy as np  # For numerical operations\n",
    "import pandas as pd  # For data manipulation and analysis\n",
    "import matplotlib.pyplot as plt  # For plotting and visualizations\n",
    "import seaborn as sns  # For enhanced data visualizations\n",
    "import plotly.express as px  # For interactive data visualizations\n",
    "from sklearn.model_selection import KFold, train_test_split  # For splitting data and cross-validation\n",
    "from sklearn.linear_model import LinearRegression  # For linear regression modeling\n",
    "from sklearn.metrics import mean_squared_error, r2_score  # For model evaluation metrics\n",
    "from scipy.optimize import curve_fit  # For curve fitting functions"
   ]
  },
  {
   "cell_type": "code",
   "execution_count": 43,
   "metadata": {},
   "outputs": [],
   "source": [
    "df = pd.read_csv('../aggregated_measurements_data.csv', index_col=0)"
   ]
  },
  {
   "cell_type": "code",
   "execution_count": 44,
   "metadata": {},
   "outputs": [
    {
     "name": "stdout",
     "output_type": "stream",
     "text": [
      "Column names:\n",
      "Index(['device_id', 'co2', 'humidity', 'pm25', 'pressure', 'temperature',\n",
      "       'rssi', 'snr', 'SF', 'frequency', 'f_count', 'p_count', 'toa',\n",
      "       'distance', 'c_walls', 'w_walls', 'exp_pl', 'n_power', 'esp'],\n",
      "      dtype='object')\n",
      "\n",
      "Total row count: 346804\n"
     ]
    }
   ],
   "source": [
    "print(\"Column names:\")\n",
    "print(df.columns)\n",
    "\n",
    "print(\"\\nTotal row count:\", len(df))"
   ]
  },
  {
   "cell_type": "code",
   "execution_count": 45,
   "metadata": {},
   "outputs": [
    {
     "name": "stdout",
     "output_type": "stream",
     "text": [
      "Sorted distinct 'device_id' values:\n",
      "['ED0', 'ED1', 'ED2', 'ED3', 'ED4', 'ED5']\n"
     ]
    }
   ],
   "source": [
    "print(\"Sorted distinct 'device_id' values:\")\n",
    "print(sorted(df['device_id'].unique()))"
   ]
  },
  {
   "cell_type": "markdown",
   "metadata": {},
   "source": [
    "## Presumed constants\n",
    "\n",
    "It probably can be assumed that the following values don't differ across different devices:\n",
    "- `distance`\n",
    "- `c_walls` - brick walls\n",
    "- `w_walls` - wood walls"
   ]
  },
  {
   "cell_type": "code",
   "execution_count": 46,
   "metadata": {},
   "outputs": [],
   "source": [
    "device_by_distance = pd.DataFrame([\n",
    "    {\n",
    "        'device_id': device_id,\n",
    "        'distance': unique_distances[0] if len(unique_distances) == 1 else 'VARIES'\n",
    "    }\n",
    "    for device_id, group in df.groupby('device_id')\n",
    "    for unique_distances in [group['distance'].unique()]\n",
    "])\n",
    "\n",
    "# print(device_by_distance.sort_values(by='distance', ascending=True))"
   ]
  },
  {
   "cell_type": "code",
   "execution_count": 47,
   "metadata": {},
   "outputs": [],
   "source": [
    "device_by_brick_walls = pd.DataFrame([\n",
    "    {\n",
    "        'device_id': device_id,\n",
    "        'brick_walls': unique_c_walls[0] if len(unique_c_walls) == 1 else 'VARIES'\n",
    "    }\n",
    "    for device_id, group in df.groupby('device_id')\n",
    "    for unique_c_walls in [group['c_walls'].unique()]\n",
    "])\n",
    "\n",
    "# print(device_by_brick_walls.sort_values(by='brick_walls', ascending=True))"
   ]
  },
  {
   "cell_type": "code",
   "execution_count": 48,
   "metadata": {},
   "outputs": [],
   "source": [
    "device_by_wood_walls = pd.DataFrame([\n",
    "    {\n",
    "        'device_id': device_id,\n",
    "        'wood_walls': unique_w_walls[0] if len(unique_w_walls) == 1 else 'VARIES'\n",
    "    }\n",
    "    for device_id, group in df.groupby('device_id')\n",
    "    for unique_w_walls in [group['w_walls'].unique()]\n",
    "])\n",
    "\n",
    "# print(device_by_wood_walls.sort_values(by='wood_walls', ascending=True))"
   ]
  },
  {
   "cell_type": "code",
   "execution_count": 51,
   "metadata": {},
   "outputs": [
    {
     "name": "stdout",
     "output_type": "stream",
     "text": [
      "  device_id  distance  brick_walls  wood_walls\n",
      "0       ED0        10            0           0\n",
      "1       ED1         8            1           0\n",
      "2       ED2        25            0           2\n",
      "3       ED3        18            1           2\n",
      "4       ED4        39            0           5\n",
      "5       ED5        43            2           2\n"
     ]
    }
   ],
   "source": [
    "devices_grouped = pd.merge(device_by_distance, device_by_brick_walls, on='device_id', how='inner')\n",
    "devices_grouped = pd.merge(devices_grouped, device_by_wood_walls, on='device_id', how='inner')\n",
    "\n",
    "print(devices_grouped)\n",
    "\n",
    "assert not (devices_grouped == 'VARIES').any().any(), \"Error: 'VARIES' found in data column\"\n",
    "assert not devices_grouped.isna().any().any(), \"Error: NaN values found in any column\""
   ]
  }
 ],
 "metadata": {
  "kernelspec": {
   "display_name": "Python 3",
   "language": "python",
   "name": "python3"
  },
  "language_info": {
   "codemirror_mode": {
    "name": "ipython",
    "version": 3
   },
   "file_extension": ".py",
   "mimetype": "text/x-python",
   "name": "python",
   "nbconvert_exporter": "python",
   "pygments_lexer": "ipython3",
   "version": "3.10.0"
  }
 },
 "nbformat": 4,
 "nbformat_minor": 2
}
